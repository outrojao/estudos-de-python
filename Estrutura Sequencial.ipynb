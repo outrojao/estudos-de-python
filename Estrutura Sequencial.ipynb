{
 "cells": [
  {
   "cell_type": "markdown",
   "id": "bb0f9514",
   "metadata": {
    "id": "bb0f9514"
   },
   "source": [
    "# Lista de Estrutura Sequencial"
   ]
  },
  {
   "cell_type": "markdown",
   "id": "4e7a8c30",
   "metadata": {
    "id": "4e7a8c30"
   },
   "source": [
    "#### 1. Faça um Programa que mostre a mensagem (print) \"Alo mundo\" na tela."
   ]
  },
  {
   "cell_type": "code",
   "execution_count": 1,
   "id": "883bfe85",
   "metadata": {
    "id": "883bfe85"
   },
   "outputs": [
    {
     "name": "stdout",
     "output_type": "stream",
     "text": [
      "Alo mundo\n"
     ]
    }
   ],
   "source": [
    "print('Alo mundo')"
   ]
  },
  {
   "cell_type": "markdown",
   "id": "71d6d6a2",
   "metadata": {
    "id": "71d6d6a2"
   },
   "source": [
    "#### 2. Faça um Programa que peça um número (input) e então mostre a mensagem: \"O número informado foi [número].\""
   ]
  },
  {
   "cell_type": "code",
   "execution_count": 2,
   "id": "30cfffcf",
   "metadata": {
    "id": "30cfffcf"
   },
   "outputs": [
    {
     "name": "stdout",
     "output_type": "stream",
     "text": [
      "Escreva um número:3\n",
      "O número informado foi 3\n"
     ]
    }
   ],
   "source": [
    "numero = input('Escreva um número:')\n",
    "print(f'O número informado foi {numero}')"
   ]
  },
  {
   "cell_type": "markdown",
   "id": "c5e43160",
   "metadata": {
    "id": "c5e43160"
   },
   "source": [
    "#### 3. Faça um Programa que peça dois números e imprima a soma."
   ]
  },
  {
   "cell_type": "code",
   "execution_count": 3,
   "id": "b0e79590",
   "metadata": {
    "id": "b0e79590"
   },
   "outputs": [
    {
     "name": "stdout",
     "output_type": "stream",
     "text": [
      "Informe o primeiro número:3\n",
      "Informe o segundo número:5\n",
      "8\n"
     ]
    }
   ],
   "source": [
    "primeiroNumero = int(input('Informe o primeiro número:'))\n",
    "segundoNumero = int(input('Informe o segundo número:'))\n",
    "\n",
    "print(primeiroNumero + segundoNumero)"
   ]
  },
  {
   "cell_type": "markdown",
   "id": "17826987",
   "metadata": {
    "id": "17826987"
   },
   "source": [
    "#### 4. Faça um Programa que peça as 4 notas bimestrais de um aluno e mostre a média de todas as notas."
   ]
  },
  {
   "cell_type": "code",
   "execution_count": 4,
   "id": "23b66762",
   "metadata": {
    "id": "23b66762"
   },
   "outputs": [
    {
     "name": "stdout",
     "output_type": "stream",
     "text": [
      "Primeira nota:5\n",
      "Segunda nota:6\n",
      "Terceira nota:7\n",
      "Quarta nota:8\n",
      "A média das notas é 6.5\n"
     ]
    }
   ],
   "source": [
    "notaUm = int(input('Primeira nota:'))\n",
    "notaDois = int(input('Segunda nota:'))\n",
    "notaTres = int(input('Terceira nota:'))\n",
    "notaQuatro = int(input('Quarta nota:'))\n",
    "\n",
    "media = (notaUm + notaDois + notaTres + notaQuatro) / 4\n",
    "\n",
    "print(f'A média das notas é {media}')"
   ]
  },
  {
   "cell_type": "markdown",
   "id": "62d461c5",
   "metadata": {
    "id": "62d461c5"
   },
   "source": [
    "#### 5. Faça um Programa que converta metros para centímetros. Você pode pedir o comprimento em metros para o usuário (input)."
   ]
  },
  {
   "cell_type": "code",
   "execution_count": 5,
   "id": "d642f1ba",
   "metadata": {
    "id": "d642f1ba"
   },
   "outputs": [
    {
     "name": "stdout",
     "output_type": "stream",
     "text": [
      "Informe o comprimento em metros:54\n",
      "5400cm\n"
     ]
    }
   ],
   "source": [
    "metros = int(input('Informe o comprimento em metros:'))\n",
    "centimetros = metros * 100\n",
    "print(f'{centimetros}cm')"
   ]
  },
  {
   "cell_type": "markdown",
   "id": "f1311697",
   "metadata": {
    "id": "f1311697"
   },
   "source": [
    "#### 6. Faça um Programa que calcule a área de uma sala de um apartamento. Para isso, o seu programa precisa pedir a largura da sala, o comprimento da sala e imprimir a área em m² da sala."
   ]
  },
  {
   "cell_type": "code",
   "execution_count": 6,
   "id": "612ea24b",
   "metadata": {
    "id": "612ea24b"
   },
   "outputs": [
    {
     "name": "stdout",
     "output_type": "stream",
     "text": [
      "Informe a largura da sala:10\n",
      "Informe o comprimento da sala:2\n",
      "20m²\n"
     ]
    }
   ],
   "source": [
    "largura = int(input('Informe a largura da sala:'))\n",
    "comprimento = int(input('Informe o comprimento da sala:'))\n",
    "area = largura * comprimento\n",
    "\n",
    "print(f'{area}m²')"
   ]
  },
  {
   "cell_type": "markdown",
   "id": "2a285929",
   "metadata": {
    "id": "2a285929"
   },
   "source": [
    "#### 7. Faça um Programa que pergunte quanto você ganha por hora e o número de horas trabalhadas no mês. Calcule e mostre o total do seu salário no referido mês."
   ]
  },
  {
   "cell_type": "code",
   "execution_count": 7,
   "id": "359e2232",
   "metadata": {
    "id": "359e2232"
   },
   "outputs": [
    {
     "name": "stdout",
     "output_type": "stream",
     "text": [
      "Quanto você ganha por hora?300\n",
      "Quantos horas você trabalhou esse mês?34\n",
      "R$10200\n"
     ]
    }
   ],
   "source": [
    "ganhoPorHora = int(input('Quanto você ganha por hora?'))\n",
    "horasTrabalhadas = int(input('Quantos horas você trabalhou esse mês?'))\n",
    "\n",
    "salarioDoMes = ganhoPorHora * horasTrabalhadas\n",
    "print(f'R${salarioDoMes}')"
   ]
  },
  {
   "cell_type": "markdown",
   "id": "7e2d4615",
   "metadata": {
    "id": "7e2d4615"
   },
   "source": [
    "#### 8. Vamos criar um conversor de temperatura. Faça um Programa que peça a temperatura em graus Fahrenheit, transforme e mostre a temperatura em graus Celsius.\n",
    "$C = \\frac{5}{9}(F-32)$"
   ]
  },
  {
   "cell_type": "code",
   "execution_count": 8,
   "id": "82daf9fd",
   "metadata": {
    "id": "82daf9fd"
   },
   "outputs": [
    {
     "name": "stdout",
     "output_type": "stream",
     "text": [
      "Temperatura em Fahrenheit:400\n",
      "204.44444444444446°C\n"
     ]
    }
   ],
   "source": [
    "fahrenheit = int(input('Temperatura em Fahrenheit:'))\n",
    "\n",
    "celsius = 5/9 * (fahrenheit - 32)\n",
    "print(f'{celsius}°C')"
   ]
  },
  {
   "cell_type": "markdown",
   "id": "20708b1c",
   "metadata": {
    "id": "20708b1c"
   },
   "source": [
    "#### 9. Faça um Programa que peça a temperatura em graus Celsius, transforme e mostre em graus Fahrenheit.\n",
    "$F = \\frac{9}{5}C + 32$"
   ]
  },
  {
   "cell_type": "code",
   "execution_count": 10,
   "id": "c73cfb38",
   "metadata": {
    "id": "c73cfb38"
   },
   "outputs": [
    {
     "name": "stdout",
     "output_type": "stream",
     "text": [
      "Temperatura em Celsius:205\n",
      "401.0°F\n"
     ]
    }
   ],
   "source": [
    "celsius = int(input('Temperatura em Celsius:'))\n",
    "\n",
    "fahrenheit = (9/5 * celsius) + 32\n",
    "print(f'{fahrenheit}°F')"
   ]
  },
  {
   "cell_type": "markdown",
   "id": "b263a9dc",
   "metadata": {
    "id": "b263a9dc"
   },
   "source": [
    "#### 10. Tendo como dados de entrada a altura (h) de uma pessoa, construa um algoritmo que calcule seu peso ideal, usando a seguinte fórmula:\n",
    "$P = 72,7h - 58$\n",
    "\n",
    "Lembrando que \"algoritmo\" nada mais é do que um programa, como todos os outros que você vem fazendo"
   ]
  },
  {
   "cell_type": "code",
   "execution_count": 13,
   "id": "9a9b8dca",
   "metadata": {
    "id": "9a9b8dca"
   },
   "outputs": [
    {
     "name": "stdout",
     "output_type": "stream",
     "text": [
      "Informe sua altura:1.70\n",
      "65.59kg\n"
     ]
    }
   ],
   "source": [
    "altura = float(input('Informe sua altura:'))\n",
    "\n",
    "pesoIdeal = (72.7 * altura) - 58\n",
    "print(f'{pesoIdeal}kg')"
   ]
  },
  {
   "cell_type": "markdown",
   "id": "13bb40d7",
   "metadata": {
    "id": "13bb40d7"
   },
   "source": [
    "#### 11. Tendo como dado de entrada a altura (h) de uma pessoa, construa um algoritmo que calcule seu peso ideal, utilizando as seguintes fórmulas:\n",
    "##### a. Para homens: $P = 72,7h - 58$\n",
    "##### b. Para mulheres: $P = 62,1h - 44,7$"
   ]
  },
  {
   "cell_type": "code",
   "execution_count": 16,
   "id": "bf82dc8c",
   "metadata": {
    "id": "bf82dc8c"
   },
   "outputs": [
    {
     "name": "stdout",
     "output_type": "stream",
     "text": [
      "Você é homem ou mulher:mulher\n",
      "Informe sua altura:1.70\n",
      "60.86999999999999kg\n"
     ]
    }
   ],
   "source": [
    "sexo = input('Você é homem ou mulher:')\n",
    "altura = float(input('Informe sua altura:'))\n",
    "\n",
    "if sexo == 'homem':\n",
    "    pesoIdealHomem = (72.7 * altura) - 58\n",
    "    print(f'{pesoIdealHomem}kg')\n",
    "\n",
    "else:\n",
    "    pesoIdealMulher = (62.1 * altura) - 44.7\n",
    "    print(f'{pesoIdealMulher}kg')\n"
   ]
  },
  {
   "cell_type": "markdown",
   "id": "f208ef89",
   "metadata": {
    "id": "f208ef89"
   },
   "source": [
    "#### 12. Faça um Programa que pergunte quanto você ganha por hora e o número de horas trabalhadas no mês."
   ]
  },
  {
   "cell_type": "code",
   "execution_count": 17,
   "id": "2d5b23e0",
   "metadata": {
    "id": "2d5b23e0"
   },
   "outputs": [
    {
     "name": "stdout",
     "output_type": "stream",
     "text": [
      "Quanto você ganha por hora?20\n",
      "Quantas horas você trabalhou esse mês?2\n"
     ]
    }
   ],
   "source": [
    "ganhoPorHora = int(input('Quanto você ganha por hora?'))\n",
    "horasTrabalhadas = int(input('Quantas horas você trabalhou esse mês?'))"
   ]
  },
  {
   "cell_type": "markdown",
   "id": "607dee3c",
   "metadata": {
    "id": "607dee3c"
   },
   "source": [
    "#####  Calcule o salário bruto (horas * salario por hora)"
   ]
  },
  {
   "cell_type": "code",
   "execution_count": 18,
   "id": "7f80ccbb",
   "metadata": {
    "id": "7f80ccbb"
   },
   "outputs": [
    {
     "name": "stdout",
     "output_type": "stream",
     "text": [
      "R$40\n"
     ]
    }
   ],
   "source": [
    "salarioBruto = ganhoPorHora * horasTrabalhadas\n",
    "print(f'R${salarioBruto}')"
   ]
  },
  {
   "cell_type": "markdown",
   "id": "2ed93cb0",
   "metadata": {
    "id": "2ed93cb0"
   },
   "source": [
    "##### Calcule o desconto do IR (11% do salário bruto)"
   ]
  },
  {
   "cell_type": "code",
   "execution_count": 20,
   "id": "3363e22f",
   "metadata": {
    "id": "3363e22f"
   },
   "outputs": [
    {
     "name": "stdout",
     "output_type": "stream",
     "text": [
      "Desconto do IR 4.4\n"
     ]
    }
   ],
   "source": [
    "descontoIR = (11/100) * salarioBruto\n",
    "print(f'Desconto do IR {descontoIR}')"
   ]
  },
  {
   "cell_type": "markdown",
   "id": "0994b2c0",
   "metadata": {
    "id": "0994b2c0"
   },
   "source": [
    "##### Calcule o desconto do INSS (8% do salário bruto)"
   ]
  },
  {
   "cell_type": "code",
   "execution_count": 21,
   "id": "748c6088",
   "metadata": {
    "id": "748c6088"
   },
   "outputs": [
    {
     "name": "stdout",
     "output_type": "stream",
     "text": [
      "Desconto do INSS 3.2\n"
     ]
    }
   ],
   "source": [
    "descontoINSS = (8/100) * salarioBruto\n",
    "print(f'Desconto do INSS {descontoINSS}')"
   ]
  },
  {
   "cell_type": "markdown",
   "id": "06e8dae4",
   "metadata": {
    "id": "06e8dae4"
   },
   "source": [
    "##### Calcule o desconto do sindicato (5% do salário bruto)"
   ]
  },
  {
   "cell_type": "code",
   "execution_count": 23,
   "id": "21b95b15",
   "metadata": {
    "id": "21b95b15",
    "scrolled": true
   },
   "outputs": [
    {
     "name": "stdout",
     "output_type": "stream",
     "text": [
      "Desconto do sindicato 2.0\n"
     ]
    }
   ],
   "source": [
    "descontoSindicato = (5/100) * salarioBruto\n",
    "print(f'Desconto do sindicato {descontoSindicato}')"
   ]
  },
  {
   "cell_type": "markdown",
   "id": "bb14ce36",
   "metadata": {
    "id": "bb14ce36"
   },
   "source": [
    "##### Calcule o salário líquido (salário bruto - descontos)"
   ]
  },
  {
   "cell_type": "code",
   "execution_count": 26,
   "id": "56317086",
   "metadata": {
    "id": "56317086"
   },
   "outputs": [
    {
     "name": "stdout",
     "output_type": "stream",
     "text": [
      "Salário líquido 30.4\n"
     ]
    }
   ],
   "source": [
    "descontos = descontoIR + descontoINSS + descontoSindicato\n",
    "salarioLiquido = salarioBruto - descontos\n",
    "print(f'Salário líquido {salarioLiquido}')"
   ]
  },
  {
   "cell_type": "markdown",
   "id": "cfbfcc87",
   "metadata": {
    "id": "cfbfcc87"
   },
   "source": [
    "#### 13. Faça um programa para uma loja de tintas. O programa deverá pedir o tamanho em metros quadrados da área a ser pintada. Considere que a cobertura da tinta é de 1 litro para cada 3 metros quadrados e que a tinta é vendida em latas de 18 litros, que custam R\\$ 80,00. Informe ao usuário a quantidades de latas de tinta a serem compradas e o preço total. (para simplificação nesse momento, não se preocupe em arredondar a quantidade de latas a serem compradas - vamos trabalhar isso em breve)"
   ]
  },
  {
   "cell_type": "code",
   "execution_count": 34,
   "id": "fb6a083b",
   "metadata": {
    "id": "fb6a083b"
   },
   "outputs": [
    {
     "name": "stdout",
     "output_type": "stream",
     "text": [
      "Informe o tamanho da área a ser pintada em m²:25\n",
      "Quantidade de tintas: 0.462962962962963, Preço total: 37.03703703703704\n"
     ]
    }
   ],
   "source": [
    "metrosQuadrados = int(input('Informe o tamanho da área a ser pintada em m²:'))\n",
    "\n",
    "litros = metrosQuadrados / 3\n",
    "qntdTintas = (litros / 18)\n",
    "valorTintas = qntdTintas * 80\n",
    "\n",
    "print(f'Quantidade de tintas: {qntdTintas}, Preço total: {valorTintas}')"
   ]
  },
  {
   "cell_type": "markdown",
   "id": "d6503c92",
   "metadata": {
    "id": "d6503c92"
   },
   "source": [
    "#### 14. Faça um programa que peça o tamanho de um arquivo para download (em MB) e a velocidade de um link de Internet (em Mbps), calcule e informe o tempo aproximado de download do arquivo usando este link (em minutos).\n",
    "\n",
    "Detalhe: MB significa megabyte, Mb (com b minúsculo) significa megabit. Um megabit é 1/8 de um megabyte. "
   ]
  },
  {
   "cell_type": "code",
   "execution_count": 33,
   "id": "0563aa62",
   "metadata": {
    "id": "0563aa62"
   },
   "outputs": [
    {
     "name": "stdout",
     "output_type": "stream",
     "text": [
      "Informe o tamanho do arquivo em MB:100\n",
      "Informe a velocidade de um link de Internet em Mbps:1\n",
      "13.333333333333334min\n"
     ]
    }
   ],
   "source": [
    "tamanhoMB = int(input('Informe o tamanho do arquivo em MB:'))\n",
    "velocidadeMbps = int(input('Informe a velocidade de um link de Internet em Mbps:'))\n",
    "\n",
    "tempoDownload = (tamanhoMB * 8) / velocidadeMbps\n",
    "tempoDownloadMinutos = tempoDownload / 60\n",
    "print(f'{tempoDownloadMinutos}min')"
   ]
  }
 ],
 "metadata": {
  "colab": {
   "provenance": []
  },
  "kernelspec": {
   "display_name": "Python 3 (ipykernel)",
   "language": "python",
   "name": "python3"
  },
  "language_info": {
   "codemirror_mode": {
    "name": "ipython",
    "version": 3
   },
   "file_extension": ".py",
   "mimetype": "text/x-python",
   "name": "python",
   "nbconvert_exporter": "python",
   "pygments_lexer": "ipython3",
   "version": "3.10.9"
  }
 },
 "nbformat": 4,
 "nbformat_minor": 5
}
