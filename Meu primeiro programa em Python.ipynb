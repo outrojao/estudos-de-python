{
 "cells": [
  {
   "cell_type": "markdown",
   "id": "b183ac2f",
   "metadata": {},
   "source": [
    "Meu primeiro programa python"
   ]
  },
  {
   "cell_type": "code",
   "execution_count": 7,
   "id": "ca4f2c36",
   "metadata": {},
   "outputs": [],
   "source": [
    "preco = 300\n",
    "desconto = 20/100"
   ]
  },
  {
   "cell_type": "code",
   "execution_count": 8,
   "id": "af1d94b4",
   "metadata": {},
   "outputs": [
    {
     "name": "stdout",
     "output_type": "stream",
     "text": [
      "240.0\n"
     ]
    }
   ],
   "source": [
    "print(preco - (preco * desconto))"
   ]
  },
  {
   "cell_type": "code",
   "execution_count": 9,
   "id": "f2309c04",
   "metadata": {},
   "outputs": [
    {
     "name": "stdout",
     "output_type": "stream",
     "text": [
      "True\n"
     ]
    }
   ],
   "source": [
    "print('João' in 'João Victor')"
   ]
  },
  {
   "cell_type": "code",
   "execution_count": 11,
   "id": "d98c81b6",
   "metadata": {},
   "outputs": [
    {
     "name": "stdout",
     "output_type": "stream",
     "text": [
      "Qual seu nome?João Victor\n",
      "Qual seu sobrenome?Dos Santos Rocha\n",
      "João Victor Dos Santos Rocha\n"
     ]
    }
   ],
   "source": [
    "nome = input('Qual seu nome?')\n",
    "sobrenome = input('Qual seu sobrenome?')\n",
    "\n",
    "print(nome  + ' ' + sobrenome)"
   ]
  },
  {
   "cell_type": "code",
   "execution_count": 4,
   "id": "5aa267bf",
   "metadata": {},
   "outputs": [
    {
     "name": "stdout",
     "output_type": "stream",
     "text": [
      "O faturamento foi 550\n"
     ]
    }
   ],
   "source": [
    "faturamento = 550\n",
    "print(f'O faturamento foi {faturamento}')"
   ]
  },
  {
   "cell_type": "code",
   "execution_count": 6,
   "id": "8d905fd9",
   "metadata": {},
   "outputs": [
    {
     "name": "stdout",
     "output_type": "stream",
     "text": [
      "Que é ano é hoje?2023\n",
      "Que ano vc nasceu?2005\n",
      "Você tem 18 anos\n"
     ]
    }
   ],
   "source": [
    "anoAtual = int(input('Que é ano é hoje?'))\n",
    "nascimento = int(input('Que ano vc nasceu?'))\n",
    "\n",
    "idade = anoAtual - nascimento\n",
    "print(f'Você tem {idade} anos')"
   ]
  }
 ],
 "metadata": {
  "kernelspec": {
   "display_name": "Python 3 (ipykernel)",
   "language": "python",
   "name": "python3"
  },
  "language_info": {
   "codemirror_mode": {
    "name": "ipython",
    "version": 3
   },
   "file_extension": ".py",
   "mimetype": "text/x-python",
   "name": "python",
   "nbconvert_exporter": "python",
   "pygments_lexer": "ipython3",
   "version": "3.10.9"
  }
 },
 "nbformat": 4,
 "nbformat_minor": 5
}
